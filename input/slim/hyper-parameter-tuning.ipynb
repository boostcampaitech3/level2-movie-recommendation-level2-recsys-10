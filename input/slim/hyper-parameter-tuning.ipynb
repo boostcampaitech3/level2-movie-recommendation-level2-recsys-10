{
 "cells": [
  {
   "cell_type": "code",
   "execution_count": 1,
   "metadata": {},
   "outputs": [],
   "source": [
    "import os\n",
    "from models import AdmmSlim\n",
    "from datasets import BaseDataset, ValidDataset\n",
    "import numpy as np\n",
    "import pandas as pd"
   ]
  },
  {
   "cell_type": "code",
   "execution_count": 2,
   "metadata": {},
   "outputs": [],
   "source": [
    "import optuna\n",
    "from optuna import Trial\n",
    "from optuna.samplers import TPESampler"
   ]
  },
  {
   "cell_type": "code",
   "execution_count": 3,
   "metadata": {},
   "outputs": [],
   "source": [
    "import torch\n",
    "import random\n",
    "\n",
    "def set_seed(seed):\n",
    "    random.seed(seed)\n",
    "    os.environ[\"PYTHONHASHSEED\"] = str(seed)\n",
    "    np.random.seed(seed)\n",
    "    torch.manual_seed(seed)\n",
    "    torch.cuda.manual_seed(seed)\n",
    "    torch.cuda.manual_seed_all(seed)\n",
    "    # some cudnn methods can be random even after fixing the seed\n",
    "    # unless you tell it to be deterministic\n",
    "    torch.backends.cudnn.deterministic = True\n",
    "    \n",
    "seed = 10\n",
    "set_seed(seed)"
   ]
  },
  {
   "cell_type": "code",
   "execution_count": 4,
   "metadata": {},
   "outputs": [
    {
     "name": "stdout",
     "output_type": "stream",
     "text": [
      "Creating interaction Train/ Vaild Split...\n",
      "Train/Vaild Split Complete. Takes in 19.75568699836731 sec\n"
     ]
    }
   ],
   "source": [
    "train_dataset = BaseDataset(path = '../data/') # args.path = '../data/'\n",
    "valid_dataset = ValidDataset(train_dataset = train_dataset)\n",
    "\n",
    "train_X = train_dataset.train_input_data\n",
    "valid_X = valid_dataset.valid_input_data"
   ]
  },
  {
   "cell_type": "code",
   "execution_count": 5,
   "metadata": {},
   "outputs": [],
   "source": [
    "# def get_score_recall(model, train_X, valid_X):\n",
    "#     n_users = train_X.shape[0]\n",
    "#     y_predict = model.predict(train_X)\n",
    "#     unseen_predict = y_predict*(1-train_X)\n",
    "#     top_items = np.argsort(unseen_predict, axis=1)[:, -10:]\n",
    "\n",
    "#     recall = 0.0\n",
    "#     for ans_items, sol_items in zip(valid_X, top_items):\n",
    "#         ans_set = set(ans_items)\n",
    "#         sol_set = set(sol_items)\n",
    "#         denominator = min(10, len(ans_items))\n",
    "#         numerator = len(ans_set.intersection(sol_set))\n",
    "#         recall += numerator/denominator\n",
    "    \n",
    "#     recall /= n_users\n",
    "#     return recall\n",
    "\n",
    "def get_score_recall(model, train_X, valid_X):\n",
    "    y_predict = model.predict(train_X)\n",
    "    unseen_predict = y_predict*(1-train_X)\n",
    "    top_items = np.argsort(unseen_predict, axis=1)[:, -10:]\n",
    "\n",
    "    solutions = np.zeros_like(valid_X)\n",
    "    solutions[np.arange(len(solutions))[:, None], top_items] = 1\n",
    "\n",
    "    numerator = (solutions*valid_X).sum(1)\n",
    "    denominator = valid_X.sum(1)\n",
    "    recall = numerator/denominator\n",
    "    return recall.mean()"
   ]
  },
  {
   "cell_type": "code",
   "execution_count": 6,
   "metadata": {},
   "outputs": [],
   "source": [
    "def objective(trial: Trial) -> float:\n",
    "    params_lgb = {\n",
    "        # \"random_state\": 10,\n",
    "        \"verbose\": True,\n",
    "        # \"learning_rate\": 0.05,\n",
    "        # \"n_estimators\": 10000,\n",
    "        # \"objective\": \"multiclass\",\n",
    "        # \"metric\": \"multi_logloss\",\n",
    "        \"lambda_1\": trial.suggest_int(\"lambda_1\", 0, 50),\n",
    "        \"lambda_2\": trial.suggest_int(\"lambda_2\", 300, 700),\n",
    "        \"rho\": 10000, #trial.suggest_int(\"rho\", 1, 20),\n",
    "        \"n_iter\": 50, #trial.suggest_int(\"n_iter\", 2, 256),\n",
    "        \"eps_rel\": trial.suggest_float(\"eps_rel\", 1e-5, 1e-3), #1e-4\n",
    "        \"eps_abs\": trial.suggest_float(\"eps_abs\", 1e-4, 1e-2), #1e-3\n",
    "    }\n",
    "    model = AdmmSlim(\n",
    "        **params_lgb\n",
    "    )\n",
    "    model.fit(train_X)\n",
    "    \n",
    "    log_score = get_score_recall(model, train_X, valid_X)\n",
    "    \n",
    "    return log_score"
   ]
  },
  {
   "cell_type": "code",
   "execution_count": 7,
   "metadata": {},
   "outputs": [
    {
     "name": "stderr",
     "output_type": "stream",
     "text": [
      "\u001b[32m[I 2022-04-12 06:06:48,492]\u001b[0m A new study created in memory with name: ADMM_SLIM\u001b[0m\n"
     ]
    },
    {
     "name": "stdout",
     "output_type": "stream",
     "text": [
      " --- init\n",
      " --- iteration start.\n"
     ]
    },
    {
     "name": "stderr",
     "output_type": "stream",
     "text": [
      "100%|██████████| 50/50 [02:14<00:00,  2.69s/it]\n",
      "\u001b[32m[I 2022-04-12 06:09:31,160]\u001b[0m Trial 0 finished with value: 0.15099763870239258 and parameters: {'lambda_1': 39, 'lambda_2': 308, 'eps_rel': 0.0006373117525770126, 'eps_abs': 0.007513158437132258}. Best is trial 0 with value: 0.15099763870239258.\u001b[0m\n"
     ]
    },
    {
     "name": "stdout",
     "output_type": "stream",
     "text": [
      " --- init\n",
      " --- iteration start.\n"
     ]
    },
    {
     "name": "stderr",
     "output_type": "stream",
     "text": [
      "100%|██████████| 50/50 [02:13<00:00,  2.67s/it]\n",
      "\u001b[32m[I 2022-04-12 06:12:14,618]\u001b[0m Trial 1 finished with value: 0.1517079621553421 and parameters: {'lambda_1': 25, 'lambda_2': 390, 'eps_rel': 0.00020608223611202773, 'eps_abs': 0.0076292540507696925}. Best is trial 1 with value: 0.1517079621553421.\u001b[0m\n"
     ]
    },
    {
     "name": "stdout",
     "output_type": "stream",
     "text": [
      " --- init\n",
      " --- iteration start.\n"
     ]
    },
    {
     "name": "stderr",
     "output_type": "stream",
     "text": [
      "100%|██████████| 50/50 [02:14<00:00,  2.69s/it]\n",
      "\u001b[32m[I 2022-04-12 06:15:00,611]\u001b[0m Trial 2 finished with value: 0.15292716026306152 and parameters: {'lambda_1': 8, 'lambda_2': 335, 'eps_rel': 0.0006885062201841193, 'eps_abs': 0.009538594127329872}. Best is trial 2 with value: 0.15292716026306152.\u001b[0m\n"
     ]
    },
    {
     "name": "stdout",
     "output_type": "stream",
     "text": [
      " --- init\n",
      " --- iteration start.\n"
     ]
    },
    {
     "name": "stderr",
     "output_type": "stream",
     "text": [
      "100%|██████████| 50/50 [02:02<00:00,  2.45s/it]\n",
      "\u001b[32m[I 2022-04-12 06:17:39,885]\u001b[0m Trial 3 finished with value: 0.14910277724266052 and parameters: {'lambda_1': 0, 'lambda_2': 505, 'eps_rel': 0.0008144947520355924, 'eps_abs': 0.006164008061610943}. Best is trial 2 with value: 0.15292716026306152.\u001b[0m\n"
     ]
    },
    {
     "name": "stdout",
     "output_type": "stream",
     "text": [
      " --- init\n",
      " --- iteration start.\n"
     ]
    },
    {
     "name": "stderr",
     "output_type": "stream",
     "text": [
      "100%|██████████| 50/50 [02:14<00:00,  2.68s/it]\n",
      "\u001b[32m[I 2022-04-12 06:20:22,280]\u001b[0m Trial 4 finished with value: 0.15095195174217224 and parameters: {'lambda_1': 36, 'lambda_2': 417, 'eps_rel': 0.000918596381287814, 'eps_abs': 0.007174300255637137}. Best is trial 2 with value: 0.15292716026306152.\u001b[0m\n"
     ]
    },
    {
     "name": "stdout",
     "output_type": "stream",
     "text": [
      " --- init\n",
      " --- iteration start.\n"
     ]
    },
    {
     "name": "stderr",
     "output_type": "stream",
     "text": [
      "100%|██████████| 50/50 [02:13<00:00,  2.67s/it]\n",
      "\u001b[32m[I 2022-04-12 06:23:05,368]\u001b[0m Trial 5 finished with value: 0.1516708880662918 and parameters: {'lambda_1': 27, 'lambda_2': 357, 'eps_rel': 0.00037960735245095456, 'eps_abs': 0.006773922789156819}. Best is trial 2 with value: 0.15292716026306152.\u001b[0m\n"
     ]
    },
    {
     "name": "stdout",
     "output_type": "stream",
     "text": [
      " --- init\n",
      " --- iteration start.\n"
     ]
    },
    {
     "name": "stderr",
     "output_type": "stream",
     "text": [
      "100%|██████████| 50/50 [02:13<00:00,  2.66s/it]\n",
      "\u001b[32m[I 2022-04-12 06:25:49,302]\u001b[0m Trial 6 finished with value: 0.1517740786075592 and parameters: {'lambda_1': 22, 'lambda_2': 474, 'eps_rel': 0.0006215893086846241, 'eps_abs': 0.005180068601288471}. Best is trial 2 with value: 0.15292716026306152.\u001b[0m\n"
     ]
    },
    {
     "name": "stdout",
     "output_type": "stream",
     "text": [
      " --- init\n",
      " --- iteration start.\n"
     ]
    },
    {
     "name": "stderr",
     "output_type": "stream",
     "text": [
      "100%|██████████| 50/50 [02:16<00:00,  2.72s/it]\n",
      "\u001b[32m[I 2022-04-12 06:28:34,459]\u001b[0m Trial 7 finished with value: 0.1508912742137909 and parameters: {'lambda_1': 33, 'lambda_2': 541, 'eps_rel': 0.000807170964864419, 'eps_abs': 0.005264306808696978}. Best is trial 2 with value: 0.15292716026306152.\u001b[0m\n"
     ]
    },
    {
     "name": "stdout",
     "output_type": "stream",
     "text": [
      " --- init\n",
      " --- iteration start.\n"
     ]
    },
    {
     "name": "stderr",
     "output_type": "stream",
     "text": [
      "100%|██████████| 50/50 [02:12<00:00,  2.66s/it]\n",
      "\u001b[32m[I 2022-04-12 06:31:15,624]\u001b[0m Trial 8 finished with value: 0.1502230316400528 and parameters: {'lambda_1': 46, 'lambda_2': 428, 'eps_rel': 9.95547557781983e-05, 'eps_abs': 0.0030769305606984133}. Best is trial 2 with value: 0.15292716026306152.\u001b[0m\n"
     ]
    },
    {
     "name": "stdout",
     "output_type": "stream",
     "text": [
      " --- init\n",
      " --- iteration start.\n"
     ]
    },
    {
     "name": "stderr",
     "output_type": "stream",
     "text": [
      "100%|██████████| 50/50 [02:15<00:00,  2.70s/it]\n",
      "\u001b[32m[I 2022-04-12 06:34:02,226]\u001b[0m Trial 9 finished with value: 0.15250138938426971 and parameters: {'lambda_1': 5, 'lambda_2': 632, 'eps_rel': 5.642735619535727e-05, 'eps_abs': 0.0063002427682827865}. Best is trial 2 with value: 0.15292716026306152.\u001b[0m\n"
     ]
    },
    {
     "name": "stdout",
     "output_type": "stream",
     "text": [
      "Best Score: 0.15292716026306152\n",
      "Best trial: {'lambda_1': 8, 'lambda_2': 335, 'eps_rel': 0.0006885062201841193, 'eps_abs': 0.009538594127329872}\n"
     ]
    }
   ],
   "source": [
    "sampler = TPESampler(seed=10)\n",
    "\n",
    "study = optuna.create_study(\n",
    "    study_name=\"ADMM_SLIM\",\n",
    "    direction=\"maximize\",\n",
    "    sampler=sampler,\n",
    ")\n",
    "\n",
    "study.optimize(objective, n_trials=10)\n",
    "print(\"Best Score:\", study.best_value)\n",
    "print(\"Best trial:\", study.best_trial.params)\n"
   ]
  },
  {
   "cell_type": "code",
   "execution_count": null,
   "metadata": {},
   "outputs": [],
   "source": []
  },
  {
   "cell_type": "code",
   "execution_count": null,
   "metadata": {},
   "outputs": [],
   "source": []
  }
 ],
 "metadata": {
  "interpreter": {
   "hash": "8892ab59d46dba3f4efad217c937d392d78b127da621344609ec3a012e116b8b"
  },
  "kernelspec": {
   "display_name": "Python 3.8.5 ('.venv': venv)",
   "language": "python",
   "name": "python3"
  },
  "language_info": {
   "codemirror_mode": {
    "name": "ipython",
    "version": 3
   },
   "file_extension": ".py",
   "mimetype": "text/x-python",
   "name": "python",
   "nbconvert_exporter": "python",
   "pygments_lexer": "ipython3",
   "version": "3.8.5"
  },
  "orig_nbformat": 4
 },
 "nbformat": 4,
 "nbformat_minor": 2
}
