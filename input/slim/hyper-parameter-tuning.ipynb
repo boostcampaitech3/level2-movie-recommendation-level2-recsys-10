{
 "cells": [
  {
   "cell_type": "code",
   "execution_count": 80,
   "metadata": {},
   "outputs": [],
   "source": [
    "import os\n",
    "from models import AdmmSlim\n",
    "from datasets import BaseDataset, ValidDataset\n",
    "import numpy as np\n",
    "import pandas as pd"
   ]
  },
  {
   "cell_type": "code",
   "execution_count": 81,
   "metadata": {},
   "outputs": [],
   "source": [
    "import optuna\n",
    "from optuna import Trial\n",
    "from optuna.samplers import TPESampler"
   ]
  },
  {
   "cell_type": "code",
   "execution_count": 82,
   "metadata": {},
   "outputs": [],
   "source": [
    "import torch\n",
    "import random\n",
    "\n",
    "def set_seed(seed):\n",
    "    random.seed(seed)\n",
    "    os.environ[\"PYTHONHASHSEED\"] = str(seed)\n",
    "    np.random.seed(seed)\n",
    "    torch.manual_seed(seed)\n",
    "    torch.cuda.manual_seed(seed)\n",
    "    torch.cuda.manual_seed_all(seed)\n",
    "    # some cudnn methods can be random even after fixing the seed\n",
    "    # unless you tell it to be deterministic\n",
    "    torch.backends.cudnn.deterministic = True\n",
    "    \n",
    "seed = 10\n",
    "set_seed(seed)"
   ]
  },
  {
   "cell_type": "code",
   "execution_count": 83,
   "metadata": {},
   "outputs": [
    {
     "name": "stdout",
     "output_type": "stream",
     "text": [
      "Creating interaction Train/ Vaild Split...\n"
     ]
    },
    {
     "ename": "KeyboardInterrupt",
     "evalue": "",
     "output_type": "error",
     "traceback": [
      "\u001b[0;31m---------------------------------------------------------------------------\u001b[0m",
      "\u001b[0;31mKeyboardInterrupt\u001b[0m                         Traceback (most recent call last)",
      "\u001b[1;32m/opt/ml/workspace/level2-movie-recommendation-level2-recsys-10/input/slim/optuna-test.ipynb Cell 4'\u001b[0m in \u001b[0;36m<cell line: 1>\u001b[0;34m()\u001b[0m\n\u001b[0;32m----> <a href='vscode-notebook-cell://ssh-remote%2B101.101.209.88/opt/ml/workspace/level2-movie-recommendation-level2-recsys-10/input/slim/optuna-test.ipynb#ch0000001vscode-remote?line=0'>1</a>\u001b[0m train_dataset \u001b[39m=\u001b[39m BaseDataset(path \u001b[39m=\u001b[39;49m \u001b[39m'\u001b[39;49m\u001b[39m../data/\u001b[39;49m\u001b[39m'\u001b[39;49m) \u001b[39m# args.path = '../data/'\u001b[39;00m\n\u001b[1;32m      <a href='vscode-notebook-cell://ssh-remote%2B101.101.209.88/opt/ml/workspace/level2-movie-recommendation-level2-recsys-10/input/slim/optuna-test.ipynb#ch0000001vscode-remote?line=1'>2</a>\u001b[0m valid_dataset \u001b[39m=\u001b[39m ValidDataset(train_dataset \u001b[39m=\u001b[39m train_dataset)\n\u001b[1;32m      <a href='vscode-notebook-cell://ssh-remote%2B101.101.209.88/opt/ml/workspace/level2-movie-recommendation-level2-recsys-10/input/slim/optuna-test.ipynb#ch0000001vscode-remote?line=3'>4</a>\u001b[0m train_X \u001b[39m=\u001b[39m train_dataset\u001b[39m.\u001b[39mtrain_input_data\n",
      "File \u001b[0;32m~/workspace/level2-movie-recommendation-level2-recsys-10/input/slim/datasets.py:98\u001b[0m, in \u001b[0;36mBaseDataset.__init__\u001b[0;34m(self, path, mode)\u001b[0m\n\u001b[1;32m     <a href='file:///opt/ml/workspace/level2-movie-recommendation-level2-recsys-10/input/slim/datasets.py?line=91'>92</a>\u001b[0m     \u001b[39mself\u001b[39m\u001b[39m.\u001b[39mvalid_items[uid] \u001b[39m=\u001b[39m u_valid_items\n\u001b[1;32m     <a href='file:///opt/ml/workspace/level2-movie-recommendation-level2-recsys-10/input/slim/datasets.py?line=92'>93</a>\u001b[0m     \u001b[39mself\u001b[39m\u001b[39m.\u001b[39mtrain_items[uid] \u001b[39m=\u001b[39m \u001b[39mlist\u001b[39m(\u001b[39mset\u001b[39m(item) \u001b[39m-\u001b[39m \u001b[39mset\u001b[39m(u_valid_items))\n\u001b[0;32m---> <a href='file:///opt/ml/workspace/level2-movie-recommendation-level2-recsys-10/input/slim/datasets.py?line=97'>98</a>\u001b[0m \u001b[39mself\u001b[39m\u001b[39m.\u001b[39mtrain_data \u001b[39m=\u001b[39m pd\u001b[39m.\u001b[39;49mconcat({k: pd\u001b[39m.\u001b[39;49mSeries(v) \u001b[39mfor\u001b[39;49;00m k, v \u001b[39min\u001b[39;49;00m \u001b[39mself\u001b[39;49m\u001b[39m.\u001b[39;49mtrain_items\u001b[39m.\u001b[39;49mitems()})\u001b[39m.\u001b[39mreset_index(\u001b[39m0\u001b[39m)\n\u001b[1;32m     <a href='file:///opt/ml/workspace/level2-movie-recommendation-level2-recsys-10/input/slim/datasets.py?line=98'>99</a>\u001b[0m \u001b[39mself\u001b[39m\u001b[39m.\u001b[39mtrain_data\u001b[39m.\u001b[39mcolumns \u001b[39m=\u001b[39m [\u001b[39m'\u001b[39m\u001b[39muser\u001b[39m\u001b[39m'\u001b[39m, \u001b[39m'\u001b[39m\u001b[39mitem\u001b[39m\u001b[39m'\u001b[39m]\n\u001b[1;32m    <a href='file:///opt/ml/workspace/level2-movie-recommendation-level2-recsys-10/input/slim/datasets.py?line=100'>101</a>\u001b[0m \u001b[39mself\u001b[39m\u001b[39m.\u001b[39mvalid_data \u001b[39m=\u001b[39m pd\u001b[39m.\u001b[39mconcat({k: pd\u001b[39m.\u001b[39mSeries(v) \u001b[39mfor\u001b[39;00m k, v \u001b[39min\u001b[39;00m \u001b[39mself\u001b[39m\u001b[39m.\u001b[39mvalid_items\u001b[39m.\u001b[39mitems()})\u001b[39m.\u001b[39mreset_index(\u001b[39m0\u001b[39m)\n",
      "File \u001b[0;32m~/.venv/lib/python3.8/site-packages/pandas/util/_decorators.py:311\u001b[0m, in \u001b[0;36mdeprecate_nonkeyword_arguments.<locals>.decorate.<locals>.wrapper\u001b[0;34m(*args, **kwargs)\u001b[0m\n\u001b[1;32m    <a href='file:///opt/ml/.venv/lib/python3.8/site-packages/pandas/util/_decorators.py?line=304'>305</a>\u001b[0m \u001b[39mif\u001b[39;00m \u001b[39mlen\u001b[39m(args) \u001b[39m>\u001b[39m num_allow_args:\n\u001b[1;32m    <a href='file:///opt/ml/.venv/lib/python3.8/site-packages/pandas/util/_decorators.py?line=305'>306</a>\u001b[0m     warnings\u001b[39m.\u001b[39mwarn(\n\u001b[1;32m    <a href='file:///opt/ml/.venv/lib/python3.8/site-packages/pandas/util/_decorators.py?line=306'>307</a>\u001b[0m         msg\u001b[39m.\u001b[39mformat(arguments\u001b[39m=\u001b[39marguments),\n\u001b[1;32m    <a href='file:///opt/ml/.venv/lib/python3.8/site-packages/pandas/util/_decorators.py?line=307'>308</a>\u001b[0m         \u001b[39mFutureWarning\u001b[39;00m,\n\u001b[1;32m    <a href='file:///opt/ml/.venv/lib/python3.8/site-packages/pandas/util/_decorators.py?line=308'>309</a>\u001b[0m         stacklevel\u001b[39m=\u001b[39mstacklevel,\n\u001b[1;32m    <a href='file:///opt/ml/.venv/lib/python3.8/site-packages/pandas/util/_decorators.py?line=309'>310</a>\u001b[0m     )\n\u001b[0;32m--> <a href='file:///opt/ml/.venv/lib/python3.8/site-packages/pandas/util/_decorators.py?line=310'>311</a>\u001b[0m \u001b[39mreturn\u001b[39;00m func(\u001b[39m*\u001b[39;49margs, \u001b[39m*\u001b[39;49m\u001b[39m*\u001b[39;49mkwargs)\n",
      "File \u001b[0;32m~/.venv/lib/python3.8/site-packages/pandas/core/reshape/concat.py:346\u001b[0m, in \u001b[0;36mconcat\u001b[0;34m(objs, axis, join, ignore_index, keys, levels, names, verify_integrity, sort, copy)\u001b[0m\n\u001b[1;32m    <a href='file:///opt/ml/.venv/lib/python3.8/site-packages/pandas/core/reshape/concat.py?line=141'>142</a>\u001b[0m \u001b[39m@deprecate_nonkeyword_arguments\u001b[39m(version\u001b[39m=\u001b[39m\u001b[39mNone\u001b[39;00m, allowed_args\u001b[39m=\u001b[39m[\u001b[39m\"\u001b[39m\u001b[39mobjs\u001b[39m\u001b[39m\"\u001b[39m])\n\u001b[1;32m    <a href='file:///opt/ml/.venv/lib/python3.8/site-packages/pandas/core/reshape/concat.py?line=142'>143</a>\u001b[0m \u001b[39mdef\u001b[39;00m \u001b[39mconcat\u001b[39m(\n\u001b[1;32m    <a href='file:///opt/ml/.venv/lib/python3.8/site-packages/pandas/core/reshape/concat.py?line=143'>144</a>\u001b[0m     objs: Iterable[NDFrame] \u001b[39m|\u001b[39m Mapping[Hashable, NDFrame],\n\u001b[0;32m   (...)\u001b[0m\n\u001b[1;32m    <a href='file:///opt/ml/.venv/lib/python3.8/site-packages/pandas/core/reshape/concat.py?line=152'>153</a>\u001b[0m     copy: \u001b[39mbool\u001b[39m \u001b[39m=\u001b[39m \u001b[39mTrue\u001b[39;00m,\n\u001b[1;32m    <a href='file:///opt/ml/.venv/lib/python3.8/site-packages/pandas/core/reshape/concat.py?line=153'>154</a>\u001b[0m ) \u001b[39m-\u001b[39m\u001b[39m>\u001b[39m DataFrame \u001b[39m|\u001b[39m Series:\n\u001b[1;32m    <a href='file:///opt/ml/.venv/lib/python3.8/site-packages/pandas/core/reshape/concat.py?line=154'>155</a>\u001b[0m     \u001b[39m\"\"\"\u001b[39;00m\n\u001b[1;32m    <a href='file:///opt/ml/.venv/lib/python3.8/site-packages/pandas/core/reshape/concat.py?line=155'>156</a>\u001b[0m \u001b[39m    Concatenate pandas objects along a particular axis with optional set logic\u001b[39;00m\n\u001b[1;32m    <a href='file:///opt/ml/.venv/lib/python3.8/site-packages/pandas/core/reshape/concat.py?line=156'>157</a>\u001b[0m \u001b[39m    along the other axes.\u001b[39;00m\n\u001b[0;32m   (...)\u001b[0m\n\u001b[1;32m    <a href='file:///opt/ml/.venv/lib/python3.8/site-packages/pandas/core/reshape/concat.py?line=343'>344</a>\u001b[0m \u001b[39m    ValueError: Indexes have overlapping values: ['a']\u001b[39;00m\n\u001b[1;32m    <a href='file:///opt/ml/.venv/lib/python3.8/site-packages/pandas/core/reshape/concat.py?line=344'>345</a>\u001b[0m \u001b[39m    \"\"\"\u001b[39;00m\n\u001b[0;32m--> <a href='file:///opt/ml/.venv/lib/python3.8/site-packages/pandas/core/reshape/concat.py?line=345'>346</a>\u001b[0m     op \u001b[39m=\u001b[39m _Concatenator(\n\u001b[1;32m    <a href='file:///opt/ml/.venv/lib/python3.8/site-packages/pandas/core/reshape/concat.py?line=346'>347</a>\u001b[0m         objs,\n\u001b[1;32m    <a href='file:///opt/ml/.venv/lib/python3.8/site-packages/pandas/core/reshape/concat.py?line=347'>348</a>\u001b[0m         axis\u001b[39m=\u001b[39;49maxis,\n\u001b[1;32m    <a href='file:///opt/ml/.venv/lib/python3.8/site-packages/pandas/core/reshape/concat.py?line=348'>349</a>\u001b[0m         ignore_index\u001b[39m=\u001b[39;49mignore_index,\n\u001b[1;32m    <a href='file:///opt/ml/.venv/lib/python3.8/site-packages/pandas/core/reshape/concat.py?line=349'>350</a>\u001b[0m         join\u001b[39m=\u001b[39;49mjoin,\n\u001b[1;32m    <a href='file:///opt/ml/.venv/lib/python3.8/site-packages/pandas/core/reshape/concat.py?line=350'>351</a>\u001b[0m         keys\u001b[39m=\u001b[39;49mkeys,\n\u001b[1;32m    <a href='file:///opt/ml/.venv/lib/python3.8/site-packages/pandas/core/reshape/concat.py?line=351'>352</a>\u001b[0m         levels\u001b[39m=\u001b[39;49mlevels,\n\u001b[1;32m    <a href='file:///opt/ml/.venv/lib/python3.8/site-packages/pandas/core/reshape/concat.py?line=352'>353</a>\u001b[0m         names\u001b[39m=\u001b[39;49mnames,\n\u001b[1;32m    <a href='file:///opt/ml/.venv/lib/python3.8/site-packages/pandas/core/reshape/concat.py?line=353'>354</a>\u001b[0m         verify_integrity\u001b[39m=\u001b[39;49mverify_integrity,\n\u001b[1;32m    <a href='file:///opt/ml/.venv/lib/python3.8/site-packages/pandas/core/reshape/concat.py?line=354'>355</a>\u001b[0m         copy\u001b[39m=\u001b[39;49mcopy,\n\u001b[1;32m    <a href='file:///opt/ml/.venv/lib/python3.8/site-packages/pandas/core/reshape/concat.py?line=355'>356</a>\u001b[0m         sort\u001b[39m=\u001b[39;49msort,\n\u001b[1;32m    <a href='file:///opt/ml/.venv/lib/python3.8/site-packages/pandas/core/reshape/concat.py?line=356'>357</a>\u001b[0m     )\n\u001b[1;32m    <a href='file:///opt/ml/.venv/lib/python3.8/site-packages/pandas/core/reshape/concat.py?line=358'>359</a>\u001b[0m     \u001b[39mreturn\u001b[39;00m op\u001b[39m.\u001b[39mget_result()\n",
      "File \u001b[0;32m~/.venv/lib/python3.8/site-packages/pandas/core/reshape/concat.py:539\u001b[0m, in \u001b[0;36m_Concatenator.__init__\u001b[0;34m(self, objs, axis, join, keys, levels, names, ignore_index, verify_integrity, copy, sort)\u001b[0m\n\u001b[1;32m    <a href='file:///opt/ml/.venv/lib/python3.8/site-packages/pandas/core/reshape/concat.py?line=535'>536</a>\u001b[0m \u001b[39mself\u001b[39m\u001b[39m.\u001b[39mverify_integrity \u001b[39m=\u001b[39m verify_integrity\n\u001b[1;32m    <a href='file:///opt/ml/.venv/lib/python3.8/site-packages/pandas/core/reshape/concat.py?line=536'>537</a>\u001b[0m \u001b[39mself\u001b[39m\u001b[39m.\u001b[39mcopy \u001b[39m=\u001b[39m copy\n\u001b[0;32m--> <a href='file:///opt/ml/.venv/lib/python3.8/site-packages/pandas/core/reshape/concat.py?line=538'>539</a>\u001b[0m \u001b[39mself\u001b[39m\u001b[39m.\u001b[39mnew_axes \u001b[39m=\u001b[39m \u001b[39mself\u001b[39;49m\u001b[39m.\u001b[39;49m_get_new_axes()\n",
      "File \u001b[0;32m~/.venv/lib/python3.8/site-packages/pandas/core/reshape/concat.py:609\u001b[0m, in \u001b[0;36m_Concatenator._get_new_axes\u001b[0;34m(self)\u001b[0m\n\u001b[1;32m    <a href='file:///opt/ml/.venv/lib/python3.8/site-packages/pandas/core/reshape/concat.py?line=606'>607</a>\u001b[0m \u001b[39mdef\u001b[39;00m \u001b[39m_get_new_axes\u001b[39m(\u001b[39mself\u001b[39m) \u001b[39m-\u001b[39m\u001b[39m>\u001b[39m \u001b[39mlist\u001b[39m[Index]:\n\u001b[1;32m    <a href='file:///opt/ml/.venv/lib/python3.8/site-packages/pandas/core/reshape/concat.py?line=607'>608</a>\u001b[0m     ndim \u001b[39m=\u001b[39m \u001b[39mself\u001b[39m\u001b[39m.\u001b[39m_get_result_dim()\n\u001b[0;32m--> <a href='file:///opt/ml/.venv/lib/python3.8/site-packages/pandas/core/reshape/concat.py?line=608'>609</a>\u001b[0m     \u001b[39mreturn\u001b[39;00m [\n\u001b[1;32m    <a href='file:///opt/ml/.venv/lib/python3.8/site-packages/pandas/core/reshape/concat.py?line=609'>610</a>\u001b[0m         \u001b[39mself\u001b[39m\u001b[39m.\u001b[39m_get_concat_axis \u001b[39mif\u001b[39;00m i \u001b[39m==\u001b[39m \u001b[39mself\u001b[39m\u001b[39m.\u001b[39mbm_axis \u001b[39melse\u001b[39;00m \u001b[39mself\u001b[39m\u001b[39m.\u001b[39m_get_comb_axis(i)\n\u001b[1;32m    <a href='file:///opt/ml/.venv/lib/python3.8/site-packages/pandas/core/reshape/concat.py?line=610'>611</a>\u001b[0m         \u001b[39mfor\u001b[39;00m i \u001b[39min\u001b[39;00m \u001b[39mrange\u001b[39m(ndim)\n\u001b[1;32m    <a href='file:///opt/ml/.venv/lib/python3.8/site-packages/pandas/core/reshape/concat.py?line=611'>612</a>\u001b[0m     ]\n",
      "File \u001b[0;32m~/.venv/lib/python3.8/site-packages/pandas/core/reshape/concat.py:610\u001b[0m, in \u001b[0;36m<listcomp>\u001b[0;34m(.0)\u001b[0m\n\u001b[1;32m    <a href='file:///opt/ml/.venv/lib/python3.8/site-packages/pandas/core/reshape/concat.py?line=606'>607</a>\u001b[0m \u001b[39mdef\u001b[39;00m \u001b[39m_get_new_axes\u001b[39m(\u001b[39mself\u001b[39m) \u001b[39m-\u001b[39m\u001b[39m>\u001b[39m \u001b[39mlist\u001b[39m[Index]:\n\u001b[1;32m    <a href='file:///opt/ml/.venv/lib/python3.8/site-packages/pandas/core/reshape/concat.py?line=607'>608</a>\u001b[0m     ndim \u001b[39m=\u001b[39m \u001b[39mself\u001b[39m\u001b[39m.\u001b[39m_get_result_dim()\n\u001b[1;32m    <a href='file:///opt/ml/.venv/lib/python3.8/site-packages/pandas/core/reshape/concat.py?line=608'>609</a>\u001b[0m     \u001b[39mreturn\u001b[39;00m [\n\u001b[0;32m--> <a href='file:///opt/ml/.venv/lib/python3.8/site-packages/pandas/core/reshape/concat.py?line=609'>610</a>\u001b[0m         \u001b[39mself\u001b[39;49m\u001b[39m.\u001b[39;49m_get_concat_axis \u001b[39mif\u001b[39;00m i \u001b[39m==\u001b[39m \u001b[39mself\u001b[39m\u001b[39m.\u001b[39mbm_axis \u001b[39melse\u001b[39;00m \u001b[39mself\u001b[39m\u001b[39m.\u001b[39m_get_comb_axis(i)\n\u001b[1;32m    <a href='file:///opt/ml/.venv/lib/python3.8/site-packages/pandas/core/reshape/concat.py?line=610'>611</a>\u001b[0m         \u001b[39mfor\u001b[39;00m i \u001b[39min\u001b[39;00m \u001b[39mrange\u001b[39m(ndim)\n\u001b[1;32m    <a href='file:///opt/ml/.venv/lib/python3.8/site-packages/pandas/core/reshape/concat.py?line=611'>612</a>\u001b[0m     ]\n",
      "File \u001b[0;32m~/.venv/lib/python3.8/site-packages/pandas/_libs/properties.pyx:37\u001b[0m, in \u001b[0;36mpandas._libs.properties.CachedProperty.__get__\u001b[0;34m()\u001b[0m\n",
      "File \u001b[0;32m~/.venv/lib/python3.8/site-packages/pandas/core/reshape/concat.py:667\u001b[0m, in \u001b[0;36m_Concatenator._get_concat_axis\u001b[0;34m(self)\u001b[0m\n\u001b[1;32m    <a href='file:///opt/ml/.venv/lib/python3.8/site-packages/pandas/core/reshape/concat.py?line=664'>665</a>\u001b[0m     concat_axis \u001b[39m=\u001b[39m _concat_indexes(indexes)\n\u001b[1;32m    <a href='file:///opt/ml/.venv/lib/python3.8/site-packages/pandas/core/reshape/concat.py?line=665'>666</a>\u001b[0m \u001b[39melse\u001b[39;00m:\n\u001b[0;32m--> <a href='file:///opt/ml/.venv/lib/python3.8/site-packages/pandas/core/reshape/concat.py?line=666'>667</a>\u001b[0m     concat_axis \u001b[39m=\u001b[39m _make_concat_multiindex(\n\u001b[1;32m    <a href='file:///opt/ml/.venv/lib/python3.8/site-packages/pandas/core/reshape/concat.py?line=667'>668</a>\u001b[0m         indexes, \u001b[39mself\u001b[39;49m\u001b[39m.\u001b[39;49mkeys, \u001b[39mself\u001b[39;49m\u001b[39m.\u001b[39;49mlevels, \u001b[39mself\u001b[39;49m\u001b[39m.\u001b[39;49mnames\n\u001b[1;32m    <a href='file:///opt/ml/.venv/lib/python3.8/site-packages/pandas/core/reshape/concat.py?line=668'>669</a>\u001b[0m     )\n\u001b[1;32m    <a href='file:///opt/ml/.venv/lib/python3.8/site-packages/pandas/core/reshape/concat.py?line=670'>671</a>\u001b[0m \u001b[39mself\u001b[39m\u001b[39m.\u001b[39m_maybe_check_integrity(concat_axis)\n\u001b[1;32m    <a href='file:///opt/ml/.venv/lib/python3.8/site-packages/pandas/core/reshape/concat.py?line=672'>673</a>\u001b[0m \u001b[39mreturn\u001b[39;00m concat_axis\n",
      "File \u001b[0;32m~/.venv/lib/python3.8/site-packages/pandas/core/reshape/concat.py:719\u001b[0m, in \u001b[0;36m_make_concat_multiindex\u001b[0;34m(indexes, keys, levels, names)\u001b[0m\n\u001b[1;32m    <a href='file:///opt/ml/.venv/lib/python3.8/site-packages/pandas/core/reshape/concat.py?line=715'>716</a>\u001b[0m to_concat \u001b[39m=\u001b[39m []\n\u001b[1;32m    <a href='file:///opt/ml/.venv/lib/python3.8/site-packages/pandas/core/reshape/concat.py?line=716'>717</a>\u001b[0m \u001b[39mfor\u001b[39;00m key, index \u001b[39min\u001b[39;00m \u001b[39mzip\u001b[39m(hlevel, indexes):\n\u001b[1;32m    <a href='file:///opt/ml/.venv/lib/python3.8/site-packages/pandas/core/reshape/concat.py?line=717'>718</a>\u001b[0m     \u001b[39m# Find matching codes, include matching nan values as equal.\u001b[39;00m\n\u001b[0;32m--> <a href='file:///opt/ml/.venv/lib/python3.8/site-packages/pandas/core/reshape/concat.py?line=718'>719</a>\u001b[0m     mask \u001b[39m=\u001b[39m (isna(level) \u001b[39m&\u001b[39m isna(key)) \u001b[39m|\u001b[39m (level \u001b[39m==\u001b[39;49m key)\n\u001b[1;32m    <a href='file:///opt/ml/.venv/lib/python3.8/site-packages/pandas/core/reshape/concat.py?line=719'>720</a>\u001b[0m     \u001b[39mif\u001b[39;00m \u001b[39mnot\u001b[39;00m mask\u001b[39m.\u001b[39many():\n\u001b[1;32m    <a href='file:///opt/ml/.venv/lib/python3.8/site-packages/pandas/core/reshape/concat.py?line=720'>721</a>\u001b[0m         \u001b[39mraise\u001b[39;00m \u001b[39mValueError\u001b[39;00m(\u001b[39mf\u001b[39m\u001b[39m\"\u001b[39m\u001b[39mKey \u001b[39m\u001b[39m{\u001b[39;00mkey\u001b[39m}\u001b[39;00m\u001b[39m not in level \u001b[39m\u001b[39m{\u001b[39;00mlevel\u001b[39m}\u001b[39;00m\u001b[39m\"\u001b[39m)\n",
      "File \u001b[0;32m~/.venv/lib/python3.8/site-packages/pandas/core/ops/common.py:70\u001b[0m, in \u001b[0;36m_unpack_zerodim_and_defer.<locals>.new_method\u001b[0;34m(self, other)\u001b[0m\n\u001b[1;32m     <a href='file:///opt/ml/.venv/lib/python3.8/site-packages/pandas/core/ops/common.py?line=65'>66</a>\u001b[0m             \u001b[39mreturn\u001b[39;00m \u001b[39mNotImplemented\u001b[39m\n\u001b[1;32m     <a href='file:///opt/ml/.venv/lib/python3.8/site-packages/pandas/core/ops/common.py?line=67'>68</a>\u001b[0m other \u001b[39m=\u001b[39m item_from_zerodim(other)\n\u001b[0;32m---> <a href='file:///opt/ml/.venv/lib/python3.8/site-packages/pandas/core/ops/common.py?line=69'>70</a>\u001b[0m \u001b[39mreturn\u001b[39;00m method(\u001b[39mself\u001b[39;49m, other)\n",
      "File \u001b[0;32m~/.venv/lib/python3.8/site-packages/pandas/core/arraylike.py:40\u001b[0m, in \u001b[0;36mOpsMixin.__eq__\u001b[0;34m(self, other)\u001b[0m\n\u001b[1;32m     <a href='file:///opt/ml/.venv/lib/python3.8/site-packages/pandas/core/arraylike.py?line=37'>38</a>\u001b[0m \u001b[39m@unpack_zerodim_and_defer\u001b[39m(\u001b[39m\"\u001b[39m\u001b[39m__eq__\u001b[39m\u001b[39m\"\u001b[39m)\n\u001b[1;32m     <a href='file:///opt/ml/.venv/lib/python3.8/site-packages/pandas/core/arraylike.py?line=38'>39</a>\u001b[0m \u001b[39mdef\u001b[39;00m \u001b[39m__eq__\u001b[39m(\u001b[39mself\u001b[39m, other):\n\u001b[0;32m---> <a href='file:///opt/ml/.venv/lib/python3.8/site-packages/pandas/core/arraylike.py?line=39'>40</a>\u001b[0m     \u001b[39mreturn\u001b[39;00m \u001b[39mself\u001b[39;49m\u001b[39m.\u001b[39;49m_cmp_method(other, operator\u001b[39m.\u001b[39;49meq)\n",
      "File \u001b[0;32m~/.venv/lib/python3.8/site-packages/pandas/core/indexes/base.py:6675\u001b[0m, in \u001b[0;36mIndex._cmp_method\u001b[0;34m(self, other, op)\u001b[0m\n\u001b[1;32m   <a href='file:///opt/ml/.venv/lib/python3.8/site-packages/pandas/core/indexes/base.py?line=6671'>6672</a>\u001b[0m     \u001b[39mraise\u001b[39;00m \u001b[39mValueError\u001b[39;00m(\u001b[39m\"\u001b[39m\u001b[39mLengths must match to compare\u001b[39m\u001b[39m\"\u001b[39m)\n\u001b[1;32m   <a href='file:///opt/ml/.venv/lib/python3.8/site-packages/pandas/core/indexes/base.py?line=6673'>6674</a>\u001b[0m \u001b[39mif\u001b[39;00m \u001b[39mnot\u001b[39;00m \u001b[39misinstance\u001b[39m(other, ABCMultiIndex):\n\u001b[0;32m-> <a href='file:///opt/ml/.venv/lib/python3.8/site-packages/pandas/core/indexes/base.py?line=6674'>6675</a>\u001b[0m     other \u001b[39m=\u001b[39m extract_array(other, extract_numpy\u001b[39m=\u001b[39;49m\u001b[39mTrue\u001b[39;49;00m)\n\u001b[1;32m   <a href='file:///opt/ml/.venv/lib/python3.8/site-packages/pandas/core/indexes/base.py?line=6675'>6676</a>\u001b[0m \u001b[39melse\u001b[39;00m:\n\u001b[1;32m   <a href='file:///opt/ml/.venv/lib/python3.8/site-packages/pandas/core/indexes/base.py?line=6676'>6677</a>\u001b[0m     other \u001b[39m=\u001b[39m np\u001b[39m.\u001b[39masarray(other)\n",
      "File \u001b[0;32m~/.venv/lib/python3.8/site-packages/pandas/core/construction.py:379\u001b[0m, in \u001b[0;36mextract_array\u001b[0;34m(obj, extract_numpy, extract_range)\u001b[0m\n\u001b[1;32m    <a href='file:///opt/ml/.venv/lib/python3.8/site-packages/pandas/core/construction.py?line=373'>374</a>\u001b[0m         \u001b[39mreturn\u001b[39;00m TimedeltaArray\u001b[39m.\u001b[39m_from_sequence(data, dtype\u001b[39m=\u001b[39mdtype, copy\u001b[39m=\u001b[39mcopy)\n\u001b[1;32m    <a href='file:///opt/ml/.venv/lib/python3.8/site-packages/pandas/core/construction.py?line=375'>376</a>\u001b[0m     \u001b[39mreturn\u001b[39;00m PandasArray\u001b[39m.\u001b[39m_from_sequence(data, dtype\u001b[39m=\u001b[39mdtype, copy\u001b[39m=\u001b[39mcopy)\n\u001b[0;32m--> <a href='file:///opt/ml/.venv/lib/python3.8/site-packages/pandas/core/construction.py?line=378'>379</a>\u001b[0m \u001b[39mdef\u001b[39;00m \u001b[39mextract_array\u001b[39m(\n\u001b[1;32m    <a href='file:///opt/ml/.venv/lib/python3.8/site-packages/pandas/core/construction.py?line=379'>380</a>\u001b[0m     obj: \u001b[39mobject\u001b[39m, extract_numpy: \u001b[39mbool\u001b[39m \u001b[39m=\u001b[39m \u001b[39mFalse\u001b[39;00m, extract_range: \u001b[39mbool\u001b[39m \u001b[39m=\u001b[39m \u001b[39mFalse\u001b[39;00m\n\u001b[1;32m    <a href='file:///opt/ml/.venv/lib/python3.8/site-packages/pandas/core/construction.py?line=380'>381</a>\u001b[0m ) \u001b[39m-\u001b[39m\u001b[39m>\u001b[39m Any \u001b[39m|\u001b[39m ArrayLike:\n\u001b[1;32m    <a href='file:///opt/ml/.venv/lib/python3.8/site-packages/pandas/core/construction.py?line=381'>382</a>\u001b[0m     \u001b[39m\"\"\"\u001b[39;00m\n\u001b[1;32m    <a href='file:///opt/ml/.venv/lib/python3.8/site-packages/pandas/core/construction.py?line=382'>383</a>\u001b[0m \u001b[39m    Extract the ndarray or ExtensionArray from a Series or Index.\u001b[39;00m\n\u001b[1;32m    <a href='file:///opt/ml/.venv/lib/python3.8/site-packages/pandas/core/construction.py?line=383'>384</a>\u001b[0m \n\u001b[0;32m   (...)\u001b[0m\n\u001b[1;32m    <a href='file:///opt/ml/.venv/lib/python3.8/site-packages/pandas/core/construction.py?line=421'>422</a>\u001b[0m \u001b[39m    array([1, 2, 3])\u001b[39;00m\n\u001b[1;32m    <a href='file:///opt/ml/.venv/lib/python3.8/site-packages/pandas/core/construction.py?line=422'>423</a>\u001b[0m \u001b[39m    \"\"\"\u001b[39;00m\n\u001b[1;32m    <a href='file:///opt/ml/.venv/lib/python3.8/site-packages/pandas/core/construction.py?line=423'>424</a>\u001b[0m     \u001b[39mif\u001b[39;00m \u001b[39misinstance\u001b[39m(obj, (ABCIndex, ABCSeries)):\n",
      "\u001b[0;31mKeyboardInterrupt\u001b[0m: "
     ]
    }
   ],
   "source": [
    "train_dataset = BaseDataset(path = '../data/') # args.path = '../data/'\n",
    "valid_dataset = ValidDataset(train_dataset = train_dataset)\n",
    "\n",
    "train_X = train_dataset.train_input_data\n",
    "valid_X = valid_dataset.valid_input_data"
   ]
  },
  {
   "cell_type": "code",
   "execution_count": null,
   "metadata": {},
   "outputs": [],
   "source": [
    "# def get_score_recall(model, train_X, valid_X):\n",
    "#     n_users = train_X.shape[0]\n",
    "#     y_predict = model.predict(train_X)\n",
    "#     unseen_predict = y_predict*(1-train_X)\n",
    "#     top_items = np.argsort(unseen_predict, axis=1)[:, -10:]\n",
    "\n",
    "#     recall = 0.0\n",
    "#     for ans_items, sol_items in zip(valid_X, top_items):\n",
    "#         ans_set = set(ans_items)\n",
    "#         sol_set = set(sol_items)\n",
    "#         denominator = min(10, len(ans_items))\n",
    "#         numerator = len(ans_set.intersection(sol_set))\n",
    "#         recall += numerator/denominator\n",
    "    \n",
    "#     recall /= n_users\n",
    "#     return recall\n",
    "\n",
    "def get_score_recall(model, train_X, valid_X):\n",
    "    n_users = train_X.shape[0]\n",
    "    y_predict = model.predict(train_X)\n",
    "    unseen_predict = y_predict*(1-train_X)\n",
    "    top_items = np.argsort(unseen_predict, axis=1)[:, -10:]\n",
    "\n",
    "    solutions = np.zeros_like(valid_X)\n",
    "    solutions[np.arange(len(solutions))[:, None], top_items] = 1\n",
    "\n",
    "    numerator = (solutions*valid_X).sum(1)\n",
    "    denominator = valid_X.sum(1)\n",
    "    recall = numerator/denominator\n",
    "    return recall.mean()"
   ]
  },
  {
   "cell_type": "code",
   "execution_count": null,
   "metadata": {},
   "outputs": [],
   "source": [
    "def objective(trial: Trial) -> float:\n",
    "    params_lgb = {\n",
    "        # \"random_state\": 10,\n",
    "        \"verbose\": True,\n",
    "        # \"learning_rate\": 0.05,\n",
    "        # \"n_estimators\": 10000,\n",
    "        # \"objective\": \"multiclass\",\n",
    "        # \"metric\": \"multi_logloss\",\n",
    "        \"lambda_1\": trial.suggest_int(\"lambda_1\", 0, 50),\n",
    "        \"lambda_2\": trial.suggest_int(\"lambda_2\", 300, 700),\n",
    "        \"rho\": 10000, #trial.suggest_int(\"rho\", 1, 20),\n",
    "        \"n_iter\": 50, #trial.suggest_int(\"n_iter\", 2, 256),\n",
    "        \"eps_rel\": trial.suggest_float(\"eps_rel\", 1e-5, 1e-3), #1e-4\n",
    "        \"eps_abs\": trial.suggest_float(\"eps_abs\", 1e-4, 1e-2), #1e-3\n",
    "    }\n",
    "    model = AdmmSlim(\n",
    "        **params_lgb\n",
    "    )\n",
    "    model.fit(train_X)\n",
    "    \n",
    "    log_score = get_score_recall(model, train_X, valid_X)\n",
    "    \n",
    "    return log_score"
   ]
  },
  {
   "cell_type": "code",
   "execution_count": null,
   "metadata": {},
   "outputs": [
    {
     "name": "stderr",
     "output_type": "stream",
     "text": [
      "\u001b[32m[I 2022-04-12 05:38:51,794]\u001b[0m A new study created in memory with name: ADMM_SLIM\u001b[0m\n"
     ]
    },
    {
     "name": "stdout",
     "output_type": "stream",
     "text": [
      " --- init\n",
      " --- iteration start.\n",
      " --- iteration 1/50\n",
      " --- iteration 2/50\n",
      " --- iteration 3/50\n",
      " --- iteration 4/50\n",
      " --- iteration 5/50\n",
      " --- iteration 6/50\n",
      " --- iteration 7/50\n",
      " --- iteration 8/50\n",
      " --- iteration 9/50\n",
      " --- iteration 10/50\n",
      " --- iteration 11/50\n",
      " --- iteration 12/50\n",
      " --- iteration 13/50\n",
      " --- iteration 14/50\n",
      " --- iteration 15/50\n",
      " --- iteration 16/50\n",
      " --- iteration 17/50\n",
      " --- iteration 18/50\n",
      " --- iteration 19/50\n",
      " --- iteration 20/50\n",
      " --- iteration 21/50\n",
      " --- iteration 22/50\n",
      " --- iteration 23/50\n",
      " --- iteration 24/50\n",
      " --- iteration 25/50\n",
      " --- iteration 26/50\n",
      " --- iteration 27/50\n",
      " --- iteration 28/50\n",
      " --- iteration 29/50\n",
      " --- iteration 30/50\n",
      " --- iteration 31/50\n",
      " --- iteration 32/50\n",
      " --- iteration 33/50\n",
      " --- iteration 34/50\n",
      " --- iteration 35/50\n",
      " --- iteration 36/50\n",
      " --- iteration 37/50\n",
      " --- iteration 38/50\n",
      " --- iteration 39/50\n",
      " --- iteration 40/50\n",
      " --- iteration 41/50\n",
      " --- iteration 42/50\n",
      " --- iteration 43/50\n",
      " --- iteration 44/50\n",
      " --- iteration 45/50\n",
      " --- iteration 46/50\n",
      " --- iteration 47/50\n",
      " --- iteration 48/50\n",
      " --- iteration 49/50\n",
      " --- iteration 50/50\n"
     ]
    },
    {
     "name": "stderr",
     "output_type": "stream",
     "text": [
      "\u001b[32m[I 2022-04-12 05:41:49,394]\u001b[0m Trial 0 finished with value: 0.0 and parameters: {'lambda_1': 39, 'lambda_2': 308, 'eps_rel': 0.0006373117525770126, 'eps_abs': 0.007513158437132258}. Best is trial 0 with value: 0.0.\u001b[0m\n"
     ]
    },
    {
     "name": "stdout",
     "output_type": "stream",
     "text": [
      " --- init\n",
      " --- iteration start.\n",
      " --- iteration 1/50\n",
      " --- iteration 2/50\n",
      " --- iteration 3/50\n",
      " --- iteration 4/50\n",
      " --- iteration 5/50\n",
      " --- iteration 6/50\n",
      " --- iteration 7/50\n",
      " --- iteration 8/50\n",
      " --- iteration 9/50\n",
      " --- iteration 10/50\n",
      " --- iteration 11/50\n",
      " --- iteration 12/50\n",
      " --- iteration 13/50\n",
      " --- iteration 14/50\n",
      " --- iteration 15/50\n",
      " --- iteration 16/50\n"
     ]
    },
    {
     "ename": "KeyboardInterrupt",
     "evalue": "",
     "output_type": "error",
     "traceback": [
      "\u001b[0;31m---------------------------------------------------------------------------\u001b[0m",
      "\u001b[0;31mKeyboardInterrupt\u001b[0m                         Traceback (most recent call last)",
      "\u001b[1;32m/opt/ml/workspace/level2-movie-recommendation-level2-recsys-10/input/slim/optuna-test.ipynb Cell 8'\u001b[0m in \u001b[0;36m<cell line: 9>\u001b[0;34m()\u001b[0m\n\u001b[1;32m      <a href='vscode-notebook-cell://ssh-remote%2B101.101.209.88/opt/ml/workspace/level2-movie-recommendation-level2-recsys-10/input/slim/optuna-test.ipynb#ch0000010vscode-remote?line=0'>1</a>\u001b[0m sampler \u001b[39m=\u001b[39m TPESampler(seed\u001b[39m=\u001b[39m\u001b[39m10\u001b[39m)\n\u001b[1;32m      <a href='vscode-notebook-cell://ssh-remote%2B101.101.209.88/opt/ml/workspace/level2-movie-recommendation-level2-recsys-10/input/slim/optuna-test.ipynb#ch0000010vscode-remote?line=2'>3</a>\u001b[0m study \u001b[39m=\u001b[39m optuna\u001b[39m.\u001b[39mcreate_study(\n\u001b[1;32m      <a href='vscode-notebook-cell://ssh-remote%2B101.101.209.88/opt/ml/workspace/level2-movie-recommendation-level2-recsys-10/input/slim/optuna-test.ipynb#ch0000010vscode-remote?line=3'>4</a>\u001b[0m     study_name\u001b[39m=\u001b[39m\u001b[39m\"\u001b[39m\u001b[39mADMM_SLIM\u001b[39m\u001b[39m\"\u001b[39m,\n\u001b[1;32m      <a href='vscode-notebook-cell://ssh-remote%2B101.101.209.88/opt/ml/workspace/level2-movie-recommendation-level2-recsys-10/input/slim/optuna-test.ipynb#ch0000010vscode-remote?line=4'>5</a>\u001b[0m     direction\u001b[39m=\u001b[39m\u001b[39m\"\u001b[39m\u001b[39mmaximize\u001b[39m\u001b[39m\"\u001b[39m,\n\u001b[1;32m      <a href='vscode-notebook-cell://ssh-remote%2B101.101.209.88/opt/ml/workspace/level2-movie-recommendation-level2-recsys-10/input/slim/optuna-test.ipynb#ch0000010vscode-remote?line=5'>6</a>\u001b[0m     sampler\u001b[39m=\u001b[39msampler,\n\u001b[1;32m      <a href='vscode-notebook-cell://ssh-remote%2B101.101.209.88/opt/ml/workspace/level2-movie-recommendation-level2-recsys-10/input/slim/optuna-test.ipynb#ch0000010vscode-remote?line=6'>7</a>\u001b[0m )\n\u001b[0;32m----> <a href='vscode-notebook-cell://ssh-remote%2B101.101.209.88/opt/ml/workspace/level2-movie-recommendation-level2-recsys-10/input/slim/optuna-test.ipynb#ch0000010vscode-remote?line=8'>9</a>\u001b[0m study\u001b[39m.\u001b[39;49moptimize(objective, n_trials\u001b[39m=\u001b[39;49m\u001b[39m10\u001b[39;49m)\n\u001b[1;32m     <a href='vscode-notebook-cell://ssh-remote%2B101.101.209.88/opt/ml/workspace/level2-movie-recommendation-level2-recsys-10/input/slim/optuna-test.ipynb#ch0000010vscode-remote?line=9'>10</a>\u001b[0m \u001b[39mprint\u001b[39m(\u001b[39m\"\u001b[39m\u001b[39mBest Score:\u001b[39m\u001b[39m\"\u001b[39m, study\u001b[39m.\u001b[39mbest_value)\n\u001b[1;32m     <a href='vscode-notebook-cell://ssh-remote%2B101.101.209.88/opt/ml/workspace/level2-movie-recommendation-level2-recsys-10/input/slim/optuna-test.ipynb#ch0000010vscode-remote?line=10'>11</a>\u001b[0m \u001b[39mprint\u001b[39m(\u001b[39m\"\u001b[39m\u001b[39mBest trial:\u001b[39m\u001b[39m\"\u001b[39m, study\u001b[39m.\u001b[39mbest_trial\u001b[39m.\u001b[39mparams)\n",
      "File \u001b[0;32m~/.venv/lib/python3.8/site-packages/optuna/study/study.py:400\u001b[0m, in \u001b[0;36mStudy.optimize\u001b[0;34m(self, func, n_trials, timeout, n_jobs, catch, callbacks, gc_after_trial, show_progress_bar)\u001b[0m\n\u001b[1;32m    <a href='file:///opt/ml/.venv/lib/python3.8/site-packages/optuna/study/study.py?line=391'>392</a>\u001b[0m \u001b[39mif\u001b[39;00m n_jobs \u001b[39m!=\u001b[39m \u001b[39m1\u001b[39m:\n\u001b[1;32m    <a href='file:///opt/ml/.venv/lib/python3.8/site-packages/optuna/study/study.py?line=392'>393</a>\u001b[0m     warnings\u001b[39m.\u001b[39mwarn(\n\u001b[1;32m    <a href='file:///opt/ml/.venv/lib/python3.8/site-packages/optuna/study/study.py?line=393'>394</a>\u001b[0m         \u001b[39m\"\u001b[39m\u001b[39m`n_jobs` argument has been deprecated in v2.7.0. \u001b[39m\u001b[39m\"\u001b[39m\n\u001b[1;32m    <a href='file:///opt/ml/.venv/lib/python3.8/site-packages/optuna/study/study.py?line=394'>395</a>\u001b[0m         \u001b[39m\"\u001b[39m\u001b[39mThis feature will be removed in v4.0.0. \u001b[39m\u001b[39m\"\u001b[39m\n\u001b[1;32m    <a href='file:///opt/ml/.venv/lib/python3.8/site-packages/optuna/study/study.py?line=395'>396</a>\u001b[0m         \u001b[39m\"\u001b[39m\u001b[39mSee https://github.com/optuna/optuna/releases/tag/v2.7.0.\u001b[39m\u001b[39m\"\u001b[39m,\n\u001b[1;32m    <a href='file:///opt/ml/.venv/lib/python3.8/site-packages/optuna/study/study.py?line=396'>397</a>\u001b[0m         \u001b[39mFutureWarning\u001b[39;00m,\n\u001b[1;32m    <a href='file:///opt/ml/.venv/lib/python3.8/site-packages/optuna/study/study.py?line=397'>398</a>\u001b[0m     )\n\u001b[0;32m--> <a href='file:///opt/ml/.venv/lib/python3.8/site-packages/optuna/study/study.py?line=399'>400</a>\u001b[0m _optimize(\n\u001b[1;32m    <a href='file:///opt/ml/.venv/lib/python3.8/site-packages/optuna/study/study.py?line=400'>401</a>\u001b[0m     study\u001b[39m=\u001b[39;49m\u001b[39mself\u001b[39;49m,\n\u001b[1;32m    <a href='file:///opt/ml/.venv/lib/python3.8/site-packages/optuna/study/study.py?line=401'>402</a>\u001b[0m     func\u001b[39m=\u001b[39;49mfunc,\n\u001b[1;32m    <a href='file:///opt/ml/.venv/lib/python3.8/site-packages/optuna/study/study.py?line=402'>403</a>\u001b[0m     n_trials\u001b[39m=\u001b[39;49mn_trials,\n\u001b[1;32m    <a href='file:///opt/ml/.venv/lib/python3.8/site-packages/optuna/study/study.py?line=403'>404</a>\u001b[0m     timeout\u001b[39m=\u001b[39;49mtimeout,\n\u001b[1;32m    <a href='file:///opt/ml/.venv/lib/python3.8/site-packages/optuna/study/study.py?line=404'>405</a>\u001b[0m     n_jobs\u001b[39m=\u001b[39;49mn_jobs,\n\u001b[1;32m    <a href='file:///opt/ml/.venv/lib/python3.8/site-packages/optuna/study/study.py?line=405'>406</a>\u001b[0m     catch\u001b[39m=\u001b[39;49mcatch,\n\u001b[1;32m    <a href='file:///opt/ml/.venv/lib/python3.8/site-packages/optuna/study/study.py?line=406'>407</a>\u001b[0m     callbacks\u001b[39m=\u001b[39;49mcallbacks,\n\u001b[1;32m    <a href='file:///opt/ml/.venv/lib/python3.8/site-packages/optuna/study/study.py?line=407'>408</a>\u001b[0m     gc_after_trial\u001b[39m=\u001b[39;49mgc_after_trial,\n\u001b[1;32m    <a href='file:///opt/ml/.venv/lib/python3.8/site-packages/optuna/study/study.py?line=408'>409</a>\u001b[0m     show_progress_bar\u001b[39m=\u001b[39;49mshow_progress_bar,\n\u001b[1;32m    <a href='file:///opt/ml/.venv/lib/python3.8/site-packages/optuna/study/study.py?line=409'>410</a>\u001b[0m )\n",
      "File \u001b[0;32m~/.venv/lib/python3.8/site-packages/optuna/study/_optimize.py:66\u001b[0m, in \u001b[0;36m_optimize\u001b[0;34m(study, func, n_trials, timeout, n_jobs, catch, callbacks, gc_after_trial, show_progress_bar)\u001b[0m\n\u001b[1;32m     <a href='file:///opt/ml/.venv/lib/python3.8/site-packages/optuna/study/_optimize.py?line=63'>64</a>\u001b[0m \u001b[39mtry\u001b[39;00m:\n\u001b[1;32m     <a href='file:///opt/ml/.venv/lib/python3.8/site-packages/optuna/study/_optimize.py?line=64'>65</a>\u001b[0m     \u001b[39mif\u001b[39;00m n_jobs \u001b[39m==\u001b[39m \u001b[39m1\u001b[39m:\n\u001b[0;32m---> <a href='file:///opt/ml/.venv/lib/python3.8/site-packages/optuna/study/_optimize.py?line=65'>66</a>\u001b[0m         _optimize_sequential(\n\u001b[1;32m     <a href='file:///opt/ml/.venv/lib/python3.8/site-packages/optuna/study/_optimize.py?line=66'>67</a>\u001b[0m             study,\n\u001b[1;32m     <a href='file:///opt/ml/.venv/lib/python3.8/site-packages/optuna/study/_optimize.py?line=67'>68</a>\u001b[0m             func,\n\u001b[1;32m     <a href='file:///opt/ml/.venv/lib/python3.8/site-packages/optuna/study/_optimize.py?line=68'>69</a>\u001b[0m             n_trials,\n\u001b[1;32m     <a href='file:///opt/ml/.venv/lib/python3.8/site-packages/optuna/study/_optimize.py?line=69'>70</a>\u001b[0m             timeout,\n\u001b[1;32m     <a href='file:///opt/ml/.venv/lib/python3.8/site-packages/optuna/study/_optimize.py?line=70'>71</a>\u001b[0m             catch,\n\u001b[1;32m     <a href='file:///opt/ml/.venv/lib/python3.8/site-packages/optuna/study/_optimize.py?line=71'>72</a>\u001b[0m             callbacks,\n\u001b[1;32m     <a href='file:///opt/ml/.venv/lib/python3.8/site-packages/optuna/study/_optimize.py?line=72'>73</a>\u001b[0m             gc_after_trial,\n\u001b[1;32m     <a href='file:///opt/ml/.venv/lib/python3.8/site-packages/optuna/study/_optimize.py?line=73'>74</a>\u001b[0m             reseed_sampler_rng\u001b[39m=\u001b[39;49m\u001b[39mFalse\u001b[39;49;00m,\n\u001b[1;32m     <a href='file:///opt/ml/.venv/lib/python3.8/site-packages/optuna/study/_optimize.py?line=74'>75</a>\u001b[0m             time_start\u001b[39m=\u001b[39;49m\u001b[39mNone\u001b[39;49;00m,\n\u001b[1;32m     <a href='file:///opt/ml/.venv/lib/python3.8/site-packages/optuna/study/_optimize.py?line=75'>76</a>\u001b[0m             progress_bar\u001b[39m=\u001b[39;49mprogress_bar,\n\u001b[1;32m     <a href='file:///opt/ml/.venv/lib/python3.8/site-packages/optuna/study/_optimize.py?line=76'>77</a>\u001b[0m         )\n\u001b[1;32m     <a href='file:///opt/ml/.venv/lib/python3.8/site-packages/optuna/study/_optimize.py?line=77'>78</a>\u001b[0m     \u001b[39melse\u001b[39;00m:\n\u001b[1;32m     <a href='file:///opt/ml/.venv/lib/python3.8/site-packages/optuna/study/_optimize.py?line=78'>79</a>\u001b[0m         \u001b[39mif\u001b[39;00m show_progress_bar:\n",
      "File \u001b[0;32m~/.venv/lib/python3.8/site-packages/optuna/study/_optimize.py:163\u001b[0m, in \u001b[0;36m_optimize_sequential\u001b[0;34m(study, func, n_trials, timeout, catch, callbacks, gc_after_trial, reseed_sampler_rng, time_start, progress_bar)\u001b[0m\n\u001b[1;32m    <a href='file:///opt/ml/.venv/lib/python3.8/site-packages/optuna/study/_optimize.py?line=159'>160</a>\u001b[0m         \u001b[39mbreak\u001b[39;00m\n\u001b[1;32m    <a href='file:///opt/ml/.venv/lib/python3.8/site-packages/optuna/study/_optimize.py?line=161'>162</a>\u001b[0m \u001b[39mtry\u001b[39;00m:\n\u001b[0;32m--> <a href='file:///opt/ml/.venv/lib/python3.8/site-packages/optuna/study/_optimize.py?line=162'>163</a>\u001b[0m     trial \u001b[39m=\u001b[39m _run_trial(study, func, catch)\n\u001b[1;32m    <a href='file:///opt/ml/.venv/lib/python3.8/site-packages/optuna/study/_optimize.py?line=163'>164</a>\u001b[0m \u001b[39mexcept\u001b[39;00m \u001b[39mException\u001b[39;00m:\n\u001b[1;32m    <a href='file:///opt/ml/.venv/lib/python3.8/site-packages/optuna/study/_optimize.py?line=164'>165</a>\u001b[0m     \u001b[39mraise\u001b[39;00m\n",
      "File \u001b[0;32m~/.venv/lib/python3.8/site-packages/optuna/study/_optimize.py:213\u001b[0m, in \u001b[0;36m_run_trial\u001b[0;34m(study, func, catch)\u001b[0m\n\u001b[1;32m    <a href='file:///opt/ml/.venv/lib/python3.8/site-packages/optuna/study/_optimize.py?line=209'>210</a>\u001b[0m     thread\u001b[39m.\u001b[39mstart()\n\u001b[1;32m    <a href='file:///opt/ml/.venv/lib/python3.8/site-packages/optuna/study/_optimize.py?line=211'>212</a>\u001b[0m \u001b[39mtry\u001b[39;00m:\n\u001b[0;32m--> <a href='file:///opt/ml/.venv/lib/python3.8/site-packages/optuna/study/_optimize.py?line=212'>213</a>\u001b[0m     value_or_values \u001b[39m=\u001b[39m func(trial)\n\u001b[1;32m    <a href='file:///opt/ml/.venv/lib/python3.8/site-packages/optuna/study/_optimize.py?line=213'>214</a>\u001b[0m \u001b[39mexcept\u001b[39;00m exceptions\u001b[39m.\u001b[39mTrialPruned \u001b[39mas\u001b[39;00m e:\n\u001b[1;32m    <a href='file:///opt/ml/.venv/lib/python3.8/site-packages/optuna/study/_optimize.py?line=214'>215</a>\u001b[0m     \u001b[39m# TODO(mamu): Handle multi-objective cases.\u001b[39;00m\n\u001b[1;32m    <a href='file:///opt/ml/.venv/lib/python3.8/site-packages/optuna/study/_optimize.py?line=215'>216</a>\u001b[0m     state \u001b[39m=\u001b[39m TrialState\u001b[39m.\u001b[39mPRUNED\n",
      "\u001b[1;32m/opt/ml/workspace/level2-movie-recommendation-level2-recsys-10/input/slim/optuna-test.ipynb Cell 7'\u001b[0m in \u001b[0;36mobjective\u001b[0;34m(trial)\u001b[0m\n\u001b[1;32m      <a href='vscode-notebook-cell://ssh-remote%2B101.101.209.88/opt/ml/workspace/level2-movie-recommendation-level2-recsys-10/input/slim/optuna-test.ipynb#ch0000003vscode-remote?line=1'>2</a>\u001b[0m params_lgb \u001b[39m=\u001b[39m {\n\u001b[1;32m      <a href='vscode-notebook-cell://ssh-remote%2B101.101.209.88/opt/ml/workspace/level2-movie-recommendation-level2-recsys-10/input/slim/optuna-test.ipynb#ch0000003vscode-remote?line=2'>3</a>\u001b[0m     \u001b[39m# \"random_state\": 10,\u001b[39;00m\n\u001b[1;32m      <a href='vscode-notebook-cell://ssh-remote%2B101.101.209.88/opt/ml/workspace/level2-movie-recommendation-level2-recsys-10/input/slim/optuna-test.ipynb#ch0000003vscode-remote?line=3'>4</a>\u001b[0m     \u001b[39m\"\u001b[39m\u001b[39mverbose\u001b[39m\u001b[39m\"\u001b[39m: \u001b[39mTrue\u001b[39;00m,\n\u001b[0;32m   (...)\u001b[0m\n\u001b[1;32m     <a href='vscode-notebook-cell://ssh-remote%2B101.101.209.88/opt/ml/workspace/level2-movie-recommendation-level2-recsys-10/input/slim/optuna-test.ipynb#ch0000003vscode-remote?line=13'>14</a>\u001b[0m     \u001b[39m\"\u001b[39m\u001b[39meps_abs\u001b[39m\u001b[39m\"\u001b[39m: trial\u001b[39m.\u001b[39msuggest_float(\u001b[39m\"\u001b[39m\u001b[39meps_abs\u001b[39m\u001b[39m\"\u001b[39m, \u001b[39m1e-4\u001b[39m, \u001b[39m1e-2\u001b[39m), \u001b[39m#1e-3\u001b[39;00m\n\u001b[1;32m     <a href='vscode-notebook-cell://ssh-remote%2B101.101.209.88/opt/ml/workspace/level2-movie-recommendation-level2-recsys-10/input/slim/optuna-test.ipynb#ch0000003vscode-remote?line=14'>15</a>\u001b[0m }\n\u001b[1;32m     <a href='vscode-notebook-cell://ssh-remote%2B101.101.209.88/opt/ml/workspace/level2-movie-recommendation-level2-recsys-10/input/slim/optuna-test.ipynb#ch0000003vscode-remote?line=15'>16</a>\u001b[0m model \u001b[39m=\u001b[39m AdmmSlim(\n\u001b[1;32m     <a href='vscode-notebook-cell://ssh-remote%2B101.101.209.88/opt/ml/workspace/level2-movie-recommendation-level2-recsys-10/input/slim/optuna-test.ipynb#ch0000003vscode-remote?line=16'>17</a>\u001b[0m     \u001b[39m*\u001b[39m\u001b[39m*\u001b[39mparams_lgb\n\u001b[1;32m     <a href='vscode-notebook-cell://ssh-remote%2B101.101.209.88/opt/ml/workspace/level2-movie-recommendation-level2-recsys-10/input/slim/optuna-test.ipynb#ch0000003vscode-remote?line=17'>18</a>\u001b[0m )\n\u001b[0;32m---> <a href='vscode-notebook-cell://ssh-remote%2B101.101.209.88/opt/ml/workspace/level2-movie-recommendation-level2-recsys-10/input/slim/optuna-test.ipynb#ch0000003vscode-remote?line=18'>19</a>\u001b[0m model\u001b[39m.\u001b[39;49mfit(train_X)\n\u001b[1;32m     <a href='vscode-notebook-cell://ssh-remote%2B101.101.209.88/opt/ml/workspace/level2-movie-recommendation-level2-recsys-10/input/slim/optuna-test.ipynb#ch0000003vscode-remote?line=20'>21</a>\u001b[0m log_score \u001b[39m=\u001b[39m get_score_recall(model, train_X, valid_X)\n\u001b[1;32m     <a href='vscode-notebook-cell://ssh-remote%2B101.101.209.88/opt/ml/workspace/level2-movie-recommendation-level2-recsys-10/input/slim/optuna-test.ipynb#ch0000003vscode-remote?line=22'>23</a>\u001b[0m \u001b[39mreturn\u001b[39;00m log_score\n",
      "File \u001b[0;32m~/workspace/level2-movie-recommendation-level2-recsys-10/input/slim/models.py:88\u001b[0m, in \u001b[0;36mfit\u001b[0;34m(self, X)\u001b[0m\n\u001b[1;32m     <a href='file:///opt/ml/workspace/level2-movie-recommendation-level2-recsys-10/input/slim/models.py?line=85'>86</a>\u001b[0m B \u001b[39m=\u001b[39m B_tilde \u001b[39m-\u001b[39m P \u001b[39m*\u001b[39m gamma\n\u001b[1;32m     <a href='file:///opt/ml/workspace/level2-movie-recommendation-level2-recsys-10/input/slim/models.py?line=86'>87</a>\u001b[0m C \u001b[39m=\u001b[39m \u001b[39mself\u001b[39m\u001b[39m.\u001b[39msoft_thresholding(B, Gamma)\n\u001b[0;32m---> <a href='file:///opt/ml/workspace/level2-movie-recommendation-level2-recsys-10/input/slim/models.py?line=87'>88</a>\u001b[0m Gamma \u001b[39m=\u001b[39m Gamma \u001b[39m+\u001b[39m \u001b[39mself\u001b[39m\u001b[39m.\u001b[39mrho \u001b[39m*\u001b[39m (B \u001b[39m-\u001b[39m C)\n\u001b[1;32m     <a href='file:///opt/ml/workspace/level2-movie-recommendation-level2-recsys-10/input/slim/models.py?line=88'>89</a>\u001b[0m \u001b[39mif\u001b[39;00m \u001b[39mself\u001b[39m\u001b[39m.\u001b[39mis_converged(B, C, C_old, Gamma):\n\u001b[1;32m     <a href='file:///opt/ml/workspace/level2-movie-recommendation-level2-recsys-10/input/slim/models.py?line=89'>90</a>\u001b[0m     \u001b[39mif\u001b[39;00m \u001b[39mself\u001b[39m\u001b[39m.\u001b[39mverbose:\n",
      "File \u001b[0;32m~/workspace/level2-movie-recommendation-level2-recsys-10/input/slim/models.py:57\u001b[0m, in \u001b[0;36mis_converged\u001b[0;34m(self, B, C, C_old, Gamma)\u001b[0m\n\u001b[1;32m     <a href='file:///opt/ml/workspace/level2-movie-recommendation-level2-recsys-10/input/slim/models.py?line=53'>54</a>\u001b[0m eps_primal \u001b[39m=\u001b[39m \u001b[39mself\u001b[39m\u001b[39m.\u001b[39meps_abs \u001b[39m*\u001b[39m B\u001b[39m.\u001b[39mshape[\u001b[39m0\u001b[39m] \u001b[39m-\u001b[39m \u001b[39mself\u001b[39m\u001b[39m.\u001b[39meps_rel \u001b[39m*\u001b[39m np\u001b[39m.\u001b[39mmax([B_norm, C_norm])\n\u001b[1;32m     <a href='file:///opt/ml/workspace/level2-movie-recommendation-level2-recsys-10/input/slim/models.py?line=54'>55</a>\u001b[0m eps_dual \u001b[39m=\u001b[39m \u001b[39mself\u001b[39m\u001b[39m.\u001b[39meps_abs \u001b[39m*\u001b[39m B\u001b[39m.\u001b[39mshape[\u001b[39m0\u001b[39m] \u001b[39m-\u001b[39m \u001b[39mself\u001b[39m\u001b[39m.\u001b[39meps_rel \u001b[39m*\u001b[39m Gamma_norm\n\u001b[0;32m---> <a href='file:///opt/ml/workspace/level2-movie-recommendation-level2-recsys-10/input/slim/models.py?line=56'>57</a>\u001b[0m R_primal_norm \u001b[39m=\u001b[39m np\u001b[39m.\u001b[39mlinalg\u001b[39m.\u001b[39mnorm(B \u001b[39m-\u001b[39m C)\n\u001b[1;32m     <a href='file:///opt/ml/workspace/level2-movie-recommendation-level2-recsys-10/input/slim/models.py?line=57'>58</a>\u001b[0m R_dual_norm \u001b[39m=\u001b[39m np\u001b[39m.\u001b[39mlinalg\u001b[39m.\u001b[39mnorm(C  \u001b[39m-\u001b[39m C_old) \u001b[39m*\u001b[39m \u001b[39mself\u001b[39m\u001b[39m.\u001b[39mrho\n\u001b[1;32m     <a href='file:///opt/ml/workspace/level2-movie-recommendation-level2-recsys-10/input/slim/models.py?line=59'>60</a>\u001b[0m converged \u001b[39m=\u001b[39m R_primal_norm \u001b[39m<\u001b[39m eps_primal \u001b[39mand\u001b[39;00m R_dual_norm \u001b[39m<\u001b[39m eps_dual\n",
      "\u001b[0;31mKeyboardInterrupt\u001b[0m: "
     ]
    }
   ],
   "source": [
    "sampler = TPESampler(seed=10)\n",
    "\n",
    "study = optuna.create_study(\n",
    "    study_name=\"ADMM_SLIM\",\n",
    "    direction=\"maximize\",\n",
    "    sampler=sampler,\n",
    ")\n",
    "\n",
    "study.optimize(objective, n_trials=10)\n",
    "print(\"Best Score:\", study.best_value)\n",
    "print(\"Best trial:\", study.best_trial.params)\n"
   ]
  }
 ],
 "metadata": {
  "interpreter": {
   "hash": "8892ab59d46dba3f4efad217c937d392d78b127da621344609ec3a012e116b8b"
  },
  "kernelspec": {
   "display_name": "Python 3.8.5 ('.venv': venv)",
   "language": "python",
   "name": "python3"
  },
  "language_info": {
   "codemirror_mode": {
    "name": "ipython",
    "version": 3
   },
   "file_extension": ".py",
   "mimetype": "text/x-python",
   "name": "python",
   "nbconvert_exporter": "python",
   "pygments_lexer": "ipython3",
   "version": "3.8.5"
  },
  "orig_nbformat": 4
 },
 "nbformat": 4,
 "nbformat_minor": 2
}
