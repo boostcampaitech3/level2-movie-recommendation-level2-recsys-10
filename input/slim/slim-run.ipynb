{
 "cells": [
  {
   "cell_type": "code",
   "execution_count": 1,
   "metadata": {},
   "outputs": [],
   "source": [
    "import os\n",
    "from models import AdmmSlim\n",
    "from datasets import BaseDataset, ValidDataset\n",
    "import numpy as np\n",
    "import pandas as pd"
   ]
  },
  {
   "cell_type": "code",
   "execution_count": 2,
   "metadata": {},
   "outputs": [],
   "source": [
    "import torch\n",
    "import random\n",
    "\n",
    "def set_seed(seed):\n",
    "    random.seed(seed)\n",
    "    os.environ[\"PYTHONHASHSEED\"] = str(seed)\n",
    "    np.random.seed(seed)\n",
    "    torch.manual_seed(seed)\n",
    "    torch.cuda.manual_seed(seed)\n",
    "    torch.cuda.manual_seed_all(seed)\n",
    "    # some cudnn methods can be random even after fixing the seed\n",
    "    # unless you tell it to be deterministic\n",
    "    torch.backends.cudnn.deterministic = True\n",
    "    \n",
    "seed = 10\n",
    "set_seed(seed)"
   ]
  },
  {
   "cell_type": "code",
   "execution_count": 3,
   "metadata": {},
   "outputs": [
    {
     "name": "stdout",
     "output_type": "stream",
     "text": [
      "Creating interaction Train/ Vaild Split...\n",
      "Train/Vaild Split Complete. Takes in 20.93163776397705 sec\n"
     ]
    }
   ],
   "source": [
    "train_dataset = BaseDataset(path = '../data/') # args.path = '../data/'\n",
    "valid_dataset = ValidDataset(train_dataset = train_dataset)\n",
    "\n",
    "train_X = train_dataset.train_input_data\n",
    "valid_X = valid_dataset.valid_input_data"
   ]
  },
  {
   "cell_type": "code",
   "execution_count": 4,
   "metadata": {},
   "outputs": [],
   "source": [
    "def get_score_recall(model, train_X, valid_X):\n",
    "    y_predict = model.predict(train_X)\n",
    "    unseen_predict = y_predict*(1-train_X)\n",
    "    top_items = np.argsort(unseen_predict, axis=1)[:, -10:]\n",
    "\n",
    "    solutions = np.zeros_like(valid_X)\n",
    "    solutions[np.arange(len(solutions))[:, None], top_items] = 1\n",
    "\n",
    "    numerator = (solutions*valid_X).sum(1)\n",
    "    denominator = valid_X.sum(1)\n",
    "    recall = numerator/denominator\n",
    "    return recall.mean()"
   ]
  },
  {
   "cell_type": "code",
   "execution_count": 5,
   "metadata": {},
   "outputs": [],
   "source": [
    "# params\n",
    "lambda_1 = 1\n",
    "lambda_2 = 500\n",
    "rho = 10000\n",
    "n_iter = 100\n",
    "eps_rel = 1e-4\n",
    "eps_abs = 1e-3"
   ]
  },
  {
   "cell_type": "code",
   "execution_count": 6,
   "metadata": {},
   "outputs": [
    {
     "name": "stdout",
     "output_type": "stream",
     "text": [
      " --- init\n",
      " --- iteration start.\n"
     ]
    },
    {
     "name": "stderr",
     "output_type": "stream",
     "text": [
      "100%|██████████| 100/100 [04:56<00:00,  2.97s/it]\n"
     ]
    },
    {
     "name": "stdout",
     "output_type": "stream",
     "text": [
      "0.15275733\n"
     ]
    }
   ],
   "source": [
    "model = AdmmSlim(lambda_1 = lambda_1, lambda_2 = lambda_2, rho = rho, n_iter = n_iter, eps_rel = eps_rel, eps_abs = eps_abs, verbose = True)\n",
    "model.fit(train_X)\n",
    "log_score = get_score_recall(model, train_X, valid_X)\n",
    "print(log_score)"
   ]
  },
  {
   "cell_type": "code",
   "execution_count": 7,
   "metadata": {},
   "outputs": [
    {
     "name": "stdout",
     "output_type": "stream",
     "text": [
      "Preparing interaction all train set\n",
      "Train/Vaild Split Complete. Takes in 2.217848539352417 sec\n",
      " --- init\n",
      " --- iteration start.\n"
     ]
    },
    {
     "name": "stderr",
     "output_type": "stream",
     "text": [
      " 62%|██████▏   | 62/100 [03:30<02:29,  3.94s/it]"
     ]
    }
   ],
   "source": [
    "##### train_all to Submission #####\n",
    "k = 20\n",
    "n_iter = 100\n",
    "lambda_1 = 8\n",
    "lambda_2 = 335\n",
    "eps_rel = 0.0006885062201841193\n",
    "eps_abs = 0.009538594127329872\n",
    "\n",
    "set_seed(seed)\n",
    "train_dataset = BaseDataset(path = '../data/', mode='train_all') # args.path = '../data/'\n",
    "# valid_dataset = ValidDataset(train_dataset = train_dataset)\n",
    "train_X = train_dataset.train_input_data\n",
    "# valid_X = valid_dataset.valid_input_data\n",
    "\n",
    "submission_model = AdmmSlim(lambda_1 = lambda_1, lambda_2 = lambda_2, rho = rho, n_iter = n_iter, eps_rel = eps_rel, eps_abs = eps_abs, verbose = True)\n",
    "submission_model.fit(train_X)"
   ]
  },
  {
   "cell_type": "code",
   "execution_count": null,
   "metadata": {},
   "outputs": [],
   "source": [
    "y_predict = submission_model.predict(train_X)\n",
    "unseen_predict = y_predict*(1-train_X)\n",
    "\n",
    "top_items = np.argsort(unseen_predict, axis=1)[:, -k:]\n",
    "\n",
    "idx2item = train_dataset.item2idx.reset_index(0)\n",
    "idx2item.columns = ['item', 'item_idx']\n",
    "idx2user = train_dataset.user2idx.reset_index(0)\n",
    "idx2user.columns = ['user', 'user_idx']\n",
    "\n",
    "temp = pd.concat({k: pd.Series(v) for k, v in enumerate(top_items)}).reset_index(0)\n",
    "temp.columns = ['user_idx', 'item_idx']\n",
    "\n",
    "temp = temp.merge(idx2user, on='user_idx')\n",
    "temp = temp.merge(idx2item, on='item_idx')\n",
    "\n",
    "del temp['user_idx'], temp['item_idx']\n",
    "\n",
    "output = temp.sort_values('user')\n",
    "output.index = range(len(output))\n",
    "\n",
    "output\n",
    "\n"
   ]
  }
 ],
 "metadata": {
  "interpreter": {
   "hash": "8892ab59d46dba3f4efad217c937d392d78b127da621344609ec3a012e116b8b"
  },
  "kernelspec": {
   "display_name": "Python 3.8.5 ('.venv': venv)",
   "language": "python",
   "name": "python3"
  },
  "language_info": {
   "codemirror_mode": {
    "name": "ipython",
    "version": 3
   },
   "file_extension": ".py",
   "mimetype": "text/x-python",
   "name": "python",
   "nbconvert_exporter": "python",
   "pygments_lexer": "ipython3",
   "version": "3.8.5"
  },
  "orig_nbformat": 4
 },
 "nbformat": 4,
 "nbformat_minor": 2
}
