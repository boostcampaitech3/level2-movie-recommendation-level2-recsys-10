{
 "cells": [
  {
   "cell_type": "code",
   "execution_count": 62,
   "metadata": {},
   "outputs": [],
   "source": [
    "import pandas as pd\n",
    "import numpy as np\n",
    "import os\n",
    "import json"
   ]
  },
  {
   "cell_type": "code",
   "execution_count": 31,
   "metadata": {},
   "outputs": [],
   "source": [
    "data_path = './data/train'\n",
    "train_df = pd.read_csv(os.path.join(data_path, 'train_ratings.csv')) # 전체 학습 데이터\n",
    "item_list = train_df['item'].unique() # 아이템 고유 번호 리스트"
   ]
  },
  {
   "cell_type": "code",
   "execution_count": 3,
   "metadata": {},
   "outputs": [],
   "source": [
    "year_data = pd.read_csv(os.path.join(data_path, 'years.tsv'), sep='\\t')\n",
    "writer_data = pd.read_csv(os.path.join(data_path, 'writers.tsv'), sep='\\t')\n",
    "title_data = pd.read_csv(os.path.join(data_path, 'titles.tsv'), sep='\\t')\n",
    "genre_data = pd.read_csv(os.path.join(data_path, 'genres.tsv'), sep='\\t')\n",
    "director_data = pd.read_csv(os.path.join(data_path, 'directors.tsv'), sep='\\t')"
   ]
  },
  {
   "cell_type": "code",
   "execution_count": 12,
   "metadata": {},
   "outputs": [
    {
     "name": "stdout",
     "output_type": "stream",
     "text": [
      "        item  year\n",
      "0       1348  1920\n",
      "1      44587  1920\n",
      "2       4768  1920\n",
      "3       8235  1920\n",
      "4       8609  1920\n",
      "...      ...   ...\n",
      "6794  114795  2010\n",
      "6795  110771  2010\n",
      "6796  112804  2010\n",
      "6797  113378  2010\n",
      "6798  109850  2010\n",
      "\n",
      "[6799 rows x 2 columns]\n"
     ]
    }
   ],
   "source": [
    "# 영화 데이터 10년으로 구분하자\n",
    "year_data.year = (year_data.year//10)*10\n",
    "print(year_data)"
   ]
  },
  {
   "cell_type": "code",
   "execution_count": 26,
   "metadata": {},
   "outputs": [],
   "source": [
    "# zero to n embedding\n",
    "year2n_dict = {year: n for n, year in enumerate(year_data['year'].unique())}\n",
    "writer2n_dict = {writer: n for n, writer in enumerate(writer_data['writer'].unique())}\n",
    "genre2n_dict = {genre: n for n, genre in enumerate(genre_data['genre'].unique())}\n",
    "director2n_dict = {director: n for n, director in enumerate(director_data['director'].unique())}\n",
    "# print(year2n_dict)\n",
    "# print(writer2n_dict)\n",
    "# print(director2n_dict)\n",
    "# print(genre2n_dict)\n",
    "genre_data['genre'].replace(genre2n_dict, inplace=True)\n",
    "year_data['year'].replace(year2n_dict, inplace=True)\n",
    "director_data['director'].replace(director2n_dict, inplace=True)\n",
    "writer_data['writer'].replace(writer2n_dict, inplace=True)\n",
    "\n",
    "# set offset\n",
    "year_data['year'] += len(genre2n_dict)\n",
    "director_data['director'] += len(genre2n_dict) + len(year2n_dict)\n",
    "writer_data['writer'] += len(genre2n_dict) + len(year2n_dict) + len(director2n_dict)"
   ]
  },
  {
   "cell_type": "code",
   "execution_count": 145,
   "metadata": {},
   "outputs": [],
   "source": [
    "lines_genre_data = genre_data.groupby('item')['genre'].apply(list).reset_index()\n",
    "lines_year_data = year_data.groupby('item')['year'].apply(list).reset_index()\n",
    "lines_director_data = director_data.groupby('item')['director'].apply(list).reset_index()    \n",
    "lines_writer_data = writer_data.groupby('item')['writer'].apply(list).reset_index()    \n",
    "\n",
    "item_list = pd.DataFrame(item_list, columns=['item'])\n",
    "\n",
    "item_list = item_list.merge(lines_genre_data, how= 'left', on='item')\n",
    "item_list = item_list.merge(lines_year_data, how= 'left', on='item')\n",
    "item_list = item_list.merge(lines_director_data, how= 'left', on='item')\n",
    "item_list = item_list.merge(lines_writer_data, how= 'left', on='item')\n",
    "item_list.fillna(0, inplace=True)"
   ]
  },
  {
   "cell_type": "code",
   "execution_count": 148,
   "metadata": {},
   "outputs": [],
   "source": [
    "item_list['genre'] = list(map(lambda x: x if x != 0 else [], item_list['genre']))\n",
    "item_list['year'] = list(map(lambda x: x if x != 0 else [], item_list['year']))\n",
    "item_list['director'] = list(map(lambda x: x if x != 0 else [], item_list['director']))\n",
    "item_list['writer'] = list(map(lambda x: x if x != 0 else [], item_list['writer']))"
   ]
  },
  {
   "cell_type": "code",
   "execution_count": 193,
   "metadata": {},
   "outputs": [],
   "source": [
    "item2attributes_df = pd.DataFrame()\n",
    "item2attributes_df['item'] = item_list['item'].copy()\n",
    "item2attributes_df['attr'] = item_list['genre'] + item_list['year'] + item_list['director'] + item_list['writer']\n",
    "item2attributes_df.sort_values('item', inplace=True)\n",
    "item2attributes_df['item'] = item_list['item'].apply(str)\n",
    "item2attributes = item2attributes_df.set_index('item').to_dict()['attr']"
   ]
  },
  {
   "cell_type": "code",
   "execution_count": 209,
   "metadata": {},
   "outputs": [],
   "source": [
    "with open(os.path.join(data_path, 'Ml_item2attributes-0.json'), 'w') as fp:\n",
    "    json.dump(item2attributes, fp)"
   ]
  }
 ],
 "metadata": {
  "interpreter": {
   "hash": "8892ab59d46dba3f4efad217c937d392d78b127da621344609ec3a012e116b8b"
  },
  "kernelspec": {
   "display_name": "Python 3.8.5 ('.venv': venv)",
   "language": "python",
   "name": "python3"
  },
  "language_info": {
   "codemirror_mode": {
    "name": "ipython",
    "version": 3
   },
   "file_extension": ".py",
   "mimetype": "text/x-python",
   "name": "python",
   "nbconvert_exporter": "python",
   "pygments_lexer": "ipython3",
   "version": "3.8.5"
  },
  "orig_nbformat": 4
 },
 "nbformat": 4,
 "nbformat_minor": 2
}
